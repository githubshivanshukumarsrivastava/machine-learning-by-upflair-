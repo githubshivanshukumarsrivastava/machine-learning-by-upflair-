{
 "cells": [
  {
   "cell_type": "code",
   "execution_count": 1,
   "metadata": {},
   "outputs": [],
   "source": [
    "import numpy as np\n",
    "import pandas as pd\n",
    "import matplotlib.pyplot as plt"
   ]
  },
  {
   "cell_type": "code",
   "execution_count": 8,
   "metadata": {},
   "outputs": [],
   "source": [
    "subject_mean=pd.read_csv('C:/Users/SHIVANSHU SRIVASTAVA/OneDrive/Desktop/ml by upflair/Screenshot 2025-03-28 072707.csv')"
   ]
  },
  {
   "cell_type": "code",
   "execution_count": 9,
   "metadata": {},
   "outputs": [
    {
     "data": {
      "text/html": [
       "<div>\n",
       "<style scoped>\n",
       "    .dataframe tbody tr th:only-of-type {\n",
       "        vertical-align: middle;\n",
       "    }\n",
       "\n",
       "    .dataframe tbody tr th {\n",
       "        vertical-align: top;\n",
       "    }\n",
       "\n",
       "    .dataframe thead th {\n",
       "        text-align: right;\n",
       "    }\n",
       "</style>\n",
       "<table border=\"1\" class=\"dataframe\">\n",
       "  <thead>\n",
       "    <tr style=\"text-align: right;\">\n",
       "      <th></th>\n",
       "      <th>Student Name</th>\n",
       "      <th>Math</th>\n",
       "      <th>Science</th>\n",
       "      <th>English</th>\n",
       "      <th>Unnamed: 4</th>\n",
       "      <th>History</th>\n",
       "    </tr>\n",
       "  </thead>\n",
       "  <tbody>\n",
       "    <tr>\n",
       "      <th>0</th>\n",
       "      <td>John</td>\n",
       "      <td>80</td>\n",
       "      <td>75</td>\n",
       "      <td>90</td>\n",
       "      <td>NaN</td>\n",
       "      <td>70</td>\n",
       "    </tr>\n",
       "    <tr>\n",
       "      <th>1</th>\n",
       "      <td>Sarah</td>\n",
       "      <td>95</td>\n",
       "      <td>85</td>\n",
       "      <td>80</td>\n",
       "      <td>NaN</td>\n",
       "      <td>85</td>\n",
       "    </tr>\n",
       "    <tr>\n",
       "      <th>2</th>\n",
       "      <td>David</td>\n",
       "      <td>70</td>\n",
       "      <td>65</td>\n",
       "      <td>75</td>\n",
       "      <td>NaN</td>\n",
       "      <td>80</td>\n",
       "    </tr>\n",
       "    <tr>\n",
       "      <th>3</th>\n",
       "      <td>Emily</td>\n",
       "      <td>85</td>\n",
       "      <td>90</td>\n",
       "      <td>88</td>\n",
       "      <td>NaN</td>\n",
       "      <td>92</td>\n",
       "    </tr>\n",
       "  </tbody>\n",
       "</table>\n",
       "</div>"
      ],
      "text/plain": [
       "  Student Name  Math  Science  English  Unnamed: 4  History\n",
       "0         John    80       75       90         NaN       70\n",
       "1        Sarah    95       85       80         NaN       85\n",
       "2        David    70       65       75         NaN       80\n",
       "3        Emily    85       90       88         NaN       92"
      ]
     },
     "execution_count": 9,
     "metadata": {},
     "output_type": "execute_result"
    }
   ],
   "source": [
    "subject_mean"
   ]
  },
  {
   "cell_type": "code",
   "execution_count": 11,
   "metadata": {},
   "outputs": [
    {
     "name": "stdout",
     "output_type": "stream",
     "text": [
      "Mean scores of each subject:\n",
      " Math          82.50\n",
      "Science       78.75\n",
      "English       83.25\n",
      "Unnamed: 4      NaN\n",
      "History       81.75\n",
      "dtype: float64\n"
     ]
    }
   ],
   "source": [
    "# 23. Calculate the mean score of each subject\n",
    "subject_means = subject_mean.iloc[:, 1:].mean()\n",
    "print(\"Mean scores of each subject:\\n\", subject_means)\n",
    "\n"
   ]
  },
  {
   "cell_type": "code",
   "execution_count": 13,
   "metadata": {},
   "outputs": [
    {
     "name": "stdout",
     "output_type": "stream",
     "text": [
      "Average scores of each student:\n",
      "          Average Score\n",
      "Student               \n",
      "John             78.75\n",
      "Sarah            86.25\n",
      "David            72.50\n",
      "Emily            88.75\n"
     ]
    }
   ],
   "source": [
    "# Create a Pandas DataFrame for this dataset and calculate the average score of each student\n",
    "\n",
    "student_mean = pd.DataFrame(subject_mean.iloc[:, 1:].mean(axis=1), columns=['Average Score'])\n",
    "student_mean['Student'] = subject_mean.iloc[:, 0]\n",
    "student_mean = student_mean.set_index('Student')\n",
    "print(\"Average scores of each student:\\n\", student_mean)"
   ]
  },
  {
   "cell_type": "code",
   "execution_count": 14,
   "metadata": {},
   "outputs": [
    {
     "name": "stdout",
     "output_type": "stream",
     "text": [
      "Student with the highest overall score: Average Score    Emily\n",
      "dtype: object with a score of 88.75\n"
     ]
    }
   ],
   "source": [
    "# Find the student with the highest overall score.\n",
    "highest_score_student = student_mean.idxmax()\n",
    "highest_score = student_mean.max()\n",
    "print(f\"Student with the highest overall score: {highest_score_student} with a score of {highest_score.values[0]}\")\n"
   ]
  },
  {
   "cell_type": "code",
   "execution_count": 16,
   "metadata": {},
   "outputs": [
    {
     "data": {
      "image/png": "[encoded data removed]",
      "text/plain": [
       "<Figure size 640x480 with 1 Axes>"
      ]
     },
     "metadata": {},
     "output_type": "display_data"
    }
   ],
   "source": [
    "# 26. Plot a scatter plot using Matplotlib to visualize Math vs Science scores.\n",
    "\n",
    "plt.scatter(subject_mean['Math'], subject_mean['Science'])\n",
    "plt.title('Math vs Science Scores')\n",
    "plt.xlabel('Math Scores')\n",
    "plt.ylabel('Science Scores')\n",
    "\n",
    "plt.show()"
   ]
  },
  {
   "cell_type": "code",
   "execution_count": 17,
   "metadata": {},
   "outputs": [
    {
     "name": "stdout",
     "output_type": "stream",
     "text": [
      "Standardized Scores:\n",
      "        Math   Science   English  Unnamed: 4   History\n",
      "0 -0.240192 -0.338241  0.965107         NaN -1.270116\n",
      "1  1.200961  0.563735 -0.464681         NaN  0.351309\n",
      "2 -1.200961 -1.240216 -1.179575         NaN -0.189166\n",
      "3  0.240192  1.014722  0.679149         NaN  1.107973\n"
     ]
    }
   ],
   "source": [
    "#27. Standardize the scores using NumPy by subtracting the mean and dividing by the standard deviation.\n",
    "\n",
    "standardized_scores = (subject_mean.iloc[:, 1:] - subject_mean.iloc[:, 1:].mean()) / subject_mean.iloc[:, 1:].std()\n",
    "print(\"Standardized Scores:\\n\", standardized_scores)\n"
   ]
  },
  {
   "cell_type": "code",
   "execution_count": 23,
   "metadata": {},
   "outputs": [
    {
     "data": {
      "text/plain": [
       "Text(0, 0.5, 'Total Scores')"
      ]
     },
     "execution_count": 23,
     "metadata": {},
     "output_type": "execute_result"
    },
    {
     "data": {
      "image/png": "[encoded data removed]",
      "text/plain": [
       "<Figure size 640x480 with 1 Axes>"
      ]
     },
     "metadata": {},
     "output_type": "display_data"
    }
   ],
   "source": [
    "# 28  Visualize the total scores using a bar plot.\n",
    "\n",
    "total_scores = subject_mean.iloc[:, 1:].sum(axis=1)\n",
    "plt.bar(subject_mean.iloc[:, 0], total_scores)\n",
    "plt.title('Total Scores of Students')\n",
    "plt.xlabel('Students')\n",
    "plt.ylabel('Total Scores')\n"
   ]
  },
  {
   "cell_type": "code",
   "execution_count": 1,
   "metadata": {},
   "outputs": [],
   "source": [
    "# 29  Generate a pie chart representing the subject-wise average scores\n",
    "\n",
    "# plt.pie(subject_means, labels=subject_means.index, autopct='%1.1f%%')\n",
    "# # plt.title('Subject-wise Average Scores')\n",
    "# # plt.axis('equal')  # Equal aspect ratio ensures that pie chart is circular.\n",
    "# # plt.show()\n",
    "\n",
    "# # 29. Generate a pie chart representing the subject-wise average scores.\n",
    "# subject_mean.plot(kind='pie', autopct='%1.1f%%', startangle=90, colors=['gold', 'lightblue', 'lightgreen', 'pink'], title='Subject-wise Average Scores')\n",
    "# plt.ylabel('')  # Remove the y-axis label for better visualization\n",
    "# plt.show()"
   ]
  },
  {
   "cell_type": "code",
   "execution_count": 2,
   "metadata": {},
   "outputs": [],
   "source": [
    "#30. Display the students whose History score is greater than the average History score.\n",
    "\n",
    "\n",
    "# history_avg = df[\"History\"].mean()\n",
    "# above_avg_history = df[df[\"History\"] > history_avg]\n",
    "# print(\"\\nStudents with History score above average:\\n\", above_avg_history)\n"
   ]
  }
 ],
 "metadata": {
  "kernelspec": {
   "display_name": "base",
   "language": "python",
   "name": "python3"
  },
  "language_info": {
   "codemirror_mode": {
    "name": "ipython",
    "version": 3
   },
   "file_extension": ".py",
   "mimetype": "text/x-python",
   "name": "python",
   "nbconvert_exporter": "python",
   "pygments_lexer": "ipython3",
   "version": "3.12.7"
  }
 },
 "nbformat": 4,
 "nbformat_minor": 2
}
